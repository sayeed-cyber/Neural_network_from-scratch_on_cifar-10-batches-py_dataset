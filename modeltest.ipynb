{
 "cells": [
  {
   "cell_type": "code",
   "execution_count": 9,
   "metadata": {},
   "outputs": [
    {
     "name": "stdout",
     "output_type": "stream",
     "text": [
      "Accuracy: 0.3655\n",
      "Precision: 0.4520\n",
      "Recall: 0.3655\n"
     ]
    },
    {
     "name": "stderr",
     "output_type": "stream",
     "text": [
      "/Users/sayeedkhan/Library/Python/3.9/lib/python/site-packages/sklearn/metrics/_classification.py:1517: UndefinedMetricWarning: Precision is ill-defined and being set to 0.0 in labels with no predicted samples. Use `zero_division` parameter to control this behavior.\n",
      "  _warn_prf(average, modifier, f\"{metric.capitalize()} is\", len(result))\n"
     ]
    }
   ],
   "source": [
    "import numpy as np\n",
    "import pickle\n",
    "from sklearn.metrics import accuracy_score, precision_score, recall_score\n",
    "\n",
    "def load_cifar10_batch(file_path):\n",
    "    with open(file_path, 'rb') as f:\n",
    "        batch = pickle.load(f, encoding='bytes')\n",
    "    features = batch[b'data'].reshape((len(batch[b'data']), 3, 32, 32)).transpose(0, 2, 3, 1)\n",
    "    labels = batch[b'labels']\n",
    "    return features, labels\n",
    "\n",
    "class SimpleCNN:\n",
    "    def __init__(self, saved_model):\n",
    "        self.conv1_filters = saved_model['conv1_filters']\n",
    "        self.conv1_bias = saved_model['conv1_bias']\n",
    "        self.fc1_weights = saved_model['fc1_weights']\n",
    "        self.fc1_bias = saved_model['fc1_bias']\n",
    "    \n",
    "    def relu(self, x):\n",
    "        return np.maximum(0, x)\n",
    "    \n",
    "    def softmax(self, x):\n",
    "        exp_x = np.exp(x - np.max(x, axis=0, keepdims=True))\n",
    "        return exp_x / np.sum(exp_x, axis=0, keepdims=True)\n",
    "    \n",
    "    def conv2d(self, x, filters, bias):\n",
    "        n_filters, n_channels, f_height, f_width = filters.shape\n",
    "        n_samples, height, width, _ = x.shape\n",
    "        \n",
    "        out_height = height - f_height + 1\n",
    "        out_width = width - f_width + 1\n",
    "        \n",
    "        output = np.zeros((n_samples, out_height, out_width, n_filters))\n",
    "        \n",
    "        for i in range(out_height):\n",
    "            for j in range(out_width):\n",
    "                x_slice = x[:, i:i+f_height, j:j+f_width, :]\n",
    "                for k in range(n_filters):\n",
    "                    output[:, i, j, k] = np.sum(x_slice * filters[k].T, axis=(1,2,3)) + bias[k]\n",
    "        \n",
    "        return output\n",
    "    \n",
    "    def forward(self, x):\n",
    "        conv1 = self.conv2d(x, self.conv1_filters, self.conv1_bias)\n",
    "        relu1 = self.relu(conv1)\n",
    "        flattened = relu1.reshape(x.shape[0], -1)\n",
    "        fc1 = np.dot(flattened, self.fc1_weights) + self.fc1_bias.T\n",
    "        output = self.softmax(fc1.T).T\n",
    "        return output\n",
    "\n",
    "# Load the saved model\n",
    "model_file = 'simple_cnn_model.pkl'\n",
    "with open(model_file, 'rb') as f:\n",
    "    saved_model = pickle.load(f)\n",
    "\n",
    "# Create model instance with loaded weights\n",
    "model = SimpleCNN(saved_model)\n",
    "\n",
    "# Load test data\n",
    "data_dir = 'cifar-10-batches-py'  # Replace with your actual path\n",
    "X_test, y_test = load_cifar10_batch(data_dir + '/test_batch')\n",
    "\n",
    "# Preprocess test data\n",
    "X_test = X_test.astype('float32') / 255.0\n",
    "\n",
    "# Make predictions\n",
    "y_pred_proba = model.forward(X_test)\n",
    "y_pred = np.argmax(y_pred_proba, axis=1)\n",
    "\n",
    "# Calculate metrics\n",
    "accuracy = accuracy_score(y_test, y_pred)\n",
    "precision = precision_score(y_test, y_pred, average='weighted')\n",
    "recall = recall_score(y_test, y_pred, average='weighted')\n",
    "\n",
    "print(f\"Accuracy: {accuracy:.4f}\")\n",
    "print(f\"Precision: {precision:.4f}\")\n",
    "print(f\"Recall: {recall:.4f}\")"
   ]
  },
  {
   "cell_type": "code",
   "execution_count": null,
   "metadata": {},
   "outputs": [],
   "source": []
  },
  {
   "cell_type": "code",
   "execution_count": null,
   "metadata": {},
   "outputs": [],
   "source": []
  }
 ],
 "metadata": {
  "kernelspec": {
   "display_name": "Python 3",
   "language": "python",
   "name": "python3"
  },
  "language_info": {
   "codemirror_mode": {
    "name": "ipython",
    "version": 3
   },
   "file_extension": ".py",
   "mimetype": "text/x-python",
   "name": "python",
   "nbconvert_exporter": "python",
   "pygments_lexer": "ipython3",
   "version": "3.9.6"
  }
 },
 "nbformat": 4,
 "nbformat_minor": 2
}
